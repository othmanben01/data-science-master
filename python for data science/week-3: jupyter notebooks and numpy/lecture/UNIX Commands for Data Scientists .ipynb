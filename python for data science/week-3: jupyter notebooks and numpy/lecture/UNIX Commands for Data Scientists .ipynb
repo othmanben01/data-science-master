{
 "cells": [
  {
   "cell_type": "markdown",
   "id": "c218202c",
   "metadata": {},
   "source": [
    "# UNIX Commands for Data Scientists "
   ]
  },
  {
   "cell_type": "markdown",
   "id": "cf1e1426",
   "metadata": {},
   "source": [
    "## Declare Filename"
   ]
  },
  {
   "cell_type": "code",
   "execution_count": 4,
   "id": "f56a5f07",
   "metadata": {},
   "outputs": [
    {
     "name": "stdout",
     "output_type": "stream",
     "text": [
      "'Intro Notebook.ipynb'\t temp.txt\r\n",
      " shakespeare.txt\t'UNIX Commands for Data Scientists .ipynb'\r\n"
     ]
    }
   ],
   "source": [
    "!ls ."
   ]
  },
  {
   "cell_type": "code",
   "execution_count": 5,
   "id": "6fd72afc",
   "metadata": {},
   "outputs": [
    {
     "name": "stdout",
     "output_type": "stream",
     "text": [
      "shakespeare.txt\n",
      "shakespeare.txt\n"
     ]
    }
   ],
   "source": [
    "filename = \"shakespeare.txt\"\n",
    "!echo $filename\n",
    "print(filename)"
   ]
  },
  {
   "cell_type": "markdown",
   "id": "d6e41cbe",
   "metadata": {},
   "source": [
    "## head"
   ]
  },
  {
   "cell_type": "code",
   "execution_count": 6,
   "id": "9d16fdda",
   "metadata": {},
   "outputs": [
    {
     "name": "stdout",
     "output_type": "stream",
     "text": [
      "It is a long established fact that a reader will be distracted by the readable content of a page when looking at its layout. \r\n",
      "The point of using Lorem Ipsum is that it has a more-or-less normal distribution of letters, as opposed to using 'Content here, content here', making it look like readable English. \r\n",
      "Many desktop publishing packages and web page editors now use Lorem Ipsum as their default model text, and a search for 'lorem ipsum' will uncover many web sites still in their infancy. Various versions have evolved over the years, sometimes by accident, sometimes on purpose (injected humour and the like).\r\n"
     ]
    }
   ],
   "source": [
    "!head -n 3 $filename"
   ]
  },
  {
   "cell_type": "markdown",
   "id": "94c2de83",
   "metadata": {},
   "source": [
    "## tail"
   ]
  },
  {
   "cell_type": "code",
   "execution_count": 7,
   "id": "e198714d",
   "metadata": {},
   "outputs": [
    {
     "name": "stdout",
     "output_type": "stream",
     "text": [
      "If you are going to use a passage of Lorem Ipsum, you need to be sure there isn't anything embarrassing hidden in the middle of text. \r\n",
      "All the Lorem Ipsum generators on the Internet tend to repeat predefined chunks as necessary, making this the first true generator on the Internet. It uses a dictionary of over 200 Latin words, combined with a handful of model sentence structures, to generate Lorem Ipsum which looks reasonable. The generated Lorem Ipsum is therefore always free from repetition, injected humour, or non-characteristic words etc.\r\n",
      "All the Lorem Ipsum generators on the Internet tend to repeat predefined chunks as necessary, making this the first true generator on the Internet. It uses a dictionary of over 200 Latin words, combined with a handful of model sentence structures, to generate Lorem Ipsum which looks reasonable. The generated Lorem Ipsum is therefore always free from repetition, injected humour, or non-characteristic words etc."
     ]
    }
   ],
   "source": [
    "!tail -n 3 $filename"
   ]
  },
  {
   "cell_type": "markdown",
   "id": "5066e688",
   "metadata": {},
   "source": [
    "## count\n",
    "*display number of characters*"
   ]
  },
  {
   "cell_type": "code",
   "execution_count": 8,
   "id": "9e6edee7",
   "metadata": {},
   "outputs": [
    {
     "name": "stdout",
     "output_type": "stream",
     "text": [
      "   6  289 1782 shakespeare.txt\r\n"
     ]
    }
   ],
   "source": [
    "!wc $filename"
   ]
  },
  {
   "cell_type": "code",
   "execution_count": 9,
   "id": "fac905b9",
   "metadata": {},
   "outputs": [
    {
     "name": "stdout",
     "output_type": "stream",
     "text": [
      "6 shakespeare.txt\r\n"
     ]
    }
   ],
   "source": [
    "!wc -l $filename"
   ]
  },
  {
   "cell_type": "markdown",
   "id": "1282b2a7",
   "metadata": {},
   "source": [
    "## cat"
   ]
  },
  {
   "cell_type": "code",
   "execution_count": 10,
   "id": "727fe877",
   "metadata": {},
   "outputs": [
    {
     "name": "stdout",
     "output_type": "stream",
     "text": [
      "6\r\n"
     ]
    }
   ],
   "source": [
    "!cat $filename | wc -l"
   ]
  },
  {
   "cell_type": "markdown",
   "id": "b038724e",
   "metadata": {},
   "source": [
    "## grep\n",
    "*display all the line which contain a given string*"
   ]
  },
  {
   "cell_type": "code",
   "execution_count": 11,
   "id": "c57f959d",
   "metadata": {},
   "outputs": [
    {
     "name": "stdout",
     "output_type": "stream",
     "text": [
      "The point of using Lorem Ipsum is that it has a more-or-less normal distribution of letters, as opposed to using 'Content here, content here', making it look like readable English. \r\n"
     ]
    }
   ],
   "source": [
    "!grep -i \"more-or-less\" $filename"
   ]
  },
  {
   "cell_type": "markdown",
   "id": "10fb23ba",
   "metadata": {},
   "source": [
    "*output matching pattern one per line and then count number of lines*"
   ]
  },
  {
   "cell_type": "code",
   "execution_count": 12,
   "id": "58fb671e",
   "metadata": {},
   "outputs": [
    {
     "name": "stdout",
     "output_type": "stream",
     "text": [
      "1\r\n"
     ]
    }
   ],
   "source": [
    "!cat $filename | grep -o \"more-or-less\" | wc -l"
   ]
  },
  {
   "cell_type": "markdown",
   "id": "c919b8a0",
   "metadata": {},
   "source": [
    "## sed"
   ]
  },
  {
   "cell_type": "markdown",
   "id": "b9a497e9",
   "metadata": {},
   "source": [
    "*replace a substring by another one in a given file*"
   ]
  },
  {
   "cell_type": "code",
   "execution_count": 13,
   "id": "0c6f7e9e",
   "metadata": {},
   "outputs": [],
   "source": [
    "!sed -e \"s/more-or-less/less/g\" $filename > temp.txt"
   ]
  },
  {
   "cell_type": "code",
   "execution_count": 14,
   "id": "6eeb6f68",
   "metadata": {},
   "outputs": [
    {
     "name": "stdout",
     "output_type": "stream",
     "text": [
      "The point of using Lorem Ipsum is that it has a less normal distribution of letters, as opposed to using 'Content here, content here', making it look like readable English. \r\n"
     ]
    }
   ],
   "source": [
    "!grep -i \"less\" temp.txt"
   ]
  },
  {
   "cell_type": "markdown",
   "id": "1cf81141",
   "metadata": {},
   "source": [
    "## sort"
   ]
  },
  {
   "cell_type": "code",
   "execution_count": 15,
   "id": "38bd1fc8",
   "metadata": {},
   "outputs": [
    {
     "name": "stdout",
     "output_type": "stream",
     "text": [
      "It is a long established fact that a reader will be distracted by the readable content of a page when looking at its layout. \r\n",
      "The point of using Lorem Ipsum is that it has a more-or-less normal distribution of letters, as opposed to using 'Content here, content here', making it look like readable English. \r\n",
      "Many desktop publishing packages and web page editors now use Lorem Ipsum as their default model text, and a search for 'lorem ipsum' will uncover many web sites still in their infancy. Various versions have evolved over the years, sometimes by accident, sometimes on purpose (injected humour and the like).\r\n"
     ]
    }
   ],
   "source": [
    "!head -n 3 $filename"
   ]
  },
  {
   "cell_type": "code",
   "execution_count": 16,
   "id": "77f93af1",
   "metadata": {},
   "outputs": [
    {
     "name": "stdout",
     "output_type": "stream",
     "text": [
      "It is a long established fact that a reader will be distracted by the readable content of a page when looking at its layout. \r\n",
      "Many desktop publishing packages and web page editors now use Lorem Ipsum as their default model text, and a search for 'lorem ipsum' will uncover many web sites still in their infancy. Various versions have evolved over the years, sometimes by accident, sometimes on purpose (injected humour and the like).\r\n",
      "The point of using Lorem Ipsum is that it has a more-or-less normal distribution of letters, as opposed to using 'Content here, content here', making it look like readable English. \r\n"
     ]
    }
   ],
   "source": [
    "!head -n 3 $filename | sort"
   ]
  },
  {
   "cell_type": "code",
   "execution_count": 17,
   "id": "658ab35f",
   "metadata": {},
   "outputs": [
    {
     "name": "stdout",
     "output_type": "stream",
     "text": [
      "There are many variations of passages of Lorem Ipsum available, but the majority have suffered alteration in some form, by injected humour, or randomised words which don't look even slightly believable. \r\n",
      "Many desktop publishing packages and web page editors now use Lorem Ipsum as their default model text, and a search for 'lorem ipsum' will uncover many web sites still in their infancy. Various versions have evolved over the years, sometimes by accident, sometimes on purpose (injected humour and the like).\r\n",
      "It is a long established fact that a reader will be distracted by the readable content of a page when looking at its layout. \r\n",
      "The point of using Lorem Ipsum is that it has a more-or-less normal distribution of letters, as opposed to using 'Content here, content here', making it look like readable English. \r\n",
      "If you are going to use a passage of Lorem Ipsum, you need to be sure there isn't anything embarrassing hidden in the middle of text. \r\n"
     ]
    }
   ],
   "source": [
    "# columns seperated by ' ', sort on column 2 (-k2), case insensitive (-f)\n",
    "!head -n 5 $filename | sort -f -t ' ' -k2  "
   ]
  },
  {
   "cell_type": "code",
   "execution_count": 18,
   "id": "7292a8fb",
   "metadata": {},
   "outputs": [
    {
     "name": "stdout",
     "output_type": "stream",
     "text": [
      "7\r\n"
     ]
    }
   ],
   "source": [
    "!sort $filename | wc -l"
   ]
  },
  {
   "cell_type": "code",
   "execution_count": 19,
   "id": "72911f54",
   "metadata": {},
   "outputs": [
    {
     "name": "stdout",
     "output_type": "stream",
     "text": [
      "6\r\n"
     ]
    }
   ],
   "source": [
    "!sort $filename | uniq | wc -l"
   ]
  },
  {
   "cell_type": "code",
   "execution_count": 20,
   "id": "ae70229f",
   "metadata": {},
   "outputs": [
    {
     "name": "stdout",
     "output_type": "stream",
     "text": [
      "5\r\n"
     ]
    }
   ],
   "source": [
    "# uniq command for getting unique records using -u option\n",
    "!sort $filename | uniq -u| wc -l"
   ]
  },
  {
   "cell_type": "markdown",
   "id": "d69094fc",
   "metadata": {},
   "source": [
    "# Lets bring all together"
   ]
  },
  {
   "cell_type": "markdown",
   "id": "0a70536a",
   "metadata": {},
   "source": [
    "## Count most frequent word in the text UNIX"
   ]
  },
  {
   "cell_type": "code",
   "execution_count": 37,
   "id": "bfdd8490",
   "metadata": {},
   "outputs": [
    {
     "name": "stdout",
     "output_type": "stream",
     "text": [
      "     13 the\r\n",
      "     11 of\r\n",
      "     10 Lorem\r\n",
      "     10 a\r\n",
      "      9 Ipsum\r\n",
      "      7 to\r\n",
      "      5 on\r\n",
      "      4 is\r\n",
      "      4 as\r\n",
      "      4 \r\n",
      "      3 words\r\n",
      "      3 which\r\n",
      "      3 The\r\n",
      "      3 over\r\n",
      "      3 or\r\n"
     ]
    }
   ],
   "source": [
    "!sed -e 's/ /\\'$'\\n/g' < $filename | sort | uniq -c | sort -nr | head -n 15"
   ]
  },
  {
   "cell_type": "markdown",
   "id": "8dd8e277",
   "metadata": {},
   "source": [
    "## Write the output to a file"
   ]
  },
  {
   "cell_type": "code",
   "execution_count": 45,
   "id": "736d47bf",
   "metadata": {},
   "outputs": [],
   "source": [
    "!sed -e 's/ /\\'$'\\n/g' < $filename | sort | uniq -c | sort -nr | head -n 15 > count_vs_words"
   ]
  },
  {
   "cell_type": "code",
   "execution_count": 46,
   "id": "5f2edbab",
   "metadata": {},
   "outputs": [
    {
     "name": "stdout",
     "output_type": "stream",
     "text": [
      "     13 the\r\n",
      "     11 of\r\n",
      "     10 Lorem\r\n",
      "     10 a\r\n",
      "      9 Ipsum\r\n",
      "      7 to\r\n",
      "      5 on\r\n",
      "      4 is\r\n",
      "      4 as\r\n",
      "      4 \r\n",
      "      3 words\r\n",
      "      3 which\r\n",
      "      3 The\r\n",
      "      3 over\r\n",
      "      3 or\r\n"
     ]
    }
   ],
   "source": [
    "!cat count_vs_words"
   ]
  },
  {
   "cell_type": "code",
   "execution_count": 47,
   "id": "6cdf0c90",
   "metadata": {},
   "outputs": [
    {
     "data": {
      "image/png": "[encoded data removed]",
      "text/plain": [
       "<Figure size 720x720 with 1 Axes>"
      ]
     },
     "metadata": {
      "needs_background": "light"
     },
     "output_type": "display_data"
    }
   ],
   "source": [
    "import matplotlib.pyplot as plt\n",
    "import csv\n",
    "\n",
    "xTricks = []\n",
    "y = []\n",
    "\n",
    "with open('count_vs_words', 'r') as csvfile:\n",
    "    plots = csv.reader(csvfile, delimiter=' ')\n",
    "    for row in plots:\n",
    "        y.append(int(row[-2]))\n",
    "        xTricks.append(str(row[-1]))\n",
    "        \n",
    "#remove the count of spaces (first line)\n",
    "y = y[1:]\n",
    "xTricks = xTricks[1:]\n",
    "#plots\n",
    "x = range(len(y))\n",
    "plt.figure(figsize=(10,10))\n",
    "plt.xticks(x, xTricks, rotation=90) #xlabel with 90 degree angle\n",
    "plt.plot(x,y,'*')\n",
    "plt.show()"
   ]
  },
  {
   "cell_type": "code",
   "execution_count": null,
   "id": "b42a1ae2",
   "metadata": {},
   "outputs": [],
   "source": []
  }
 ],
 "metadata": {
  "kernelspec": {
   "display_name": "Python 3 (ipykernel)",
   "language": "python",
   "name": "python3"
  },
  "language_info": {
   "codemirror_mode": {
    "name": "ipython",
    "version": 3
   },
   "file_extension": ".py",
   "mimetype": "text/x-python",
   "name": "python",
   "nbconvert_exporter": "python",
   "pygments_lexer": "ipython3",
   "version": "3.8.10"
  }
 },
 "nbformat": 4,
 "nbformat_minor": 5
}
